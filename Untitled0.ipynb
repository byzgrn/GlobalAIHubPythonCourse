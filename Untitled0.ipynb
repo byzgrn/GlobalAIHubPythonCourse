{
  "nbformat": 4,
  "nbformat_minor": 0,
  "metadata": {
    "colab": {
      "name": "Untitled0.ipynb",
      "provenance": [],
      "authorship_tag": "ABX9TyPG7t+F99tOcJBDwRZRXafo",
      "include_colab_link": true
    },
    "kernelspec": {
      "name": "python3",
      "display_name": "Python 3"
    },
    "language_info": {
      "name": "python"
    }
  },
  "cells": [
    {
      "cell_type": "markdown",
      "metadata": {
        "id": "view-in-github",
        "colab_type": "text"
      },
      "source": [
        "<a href=\"https://colab.research.google.com/github/byzgrn/gaih-students-repo-example/blob/main/Untitled0.ipynb\" target=\"_parent\"><img src=\"https://colab.research.google.com/assets/colab-badge.svg\" alt=\"Open In Colab\"/></a>"
      ]
    },
    {
      "cell_type": "code",
      "metadata": {
        "colab": {
          "base_uri": "https://localhost:8080/"
        },
        "id": "xs3ncncIDGDa",
        "outputId": "ab74ee36-edcc-4961-8c0e-15a2cf94b12f"
      },
      "source": [
        "#homework1\n",
        "\n",
        "'''Firstly, i made a 2 lists. One of them has even numbers, one of them has odd \n",
        "numbers.Then, i merged these two lists. In addition, i sorted them.After that, i\n",
        "multiplied all values in the list by 2. Finally, i printed the data type of all \n",
        "values in the list.'''\n",
        "\n",
        "list1=[1,3,5,7,9]he list\n",
        "list2=[2,4,6,8]\n",
        "list1.extend(list2)\n",
        "print(list1)\n",
        "list1.sort()\n",
        "print(list1)\n",
        "list3=[x*2 for x in list1]\n",
        "print(list3)\n",
        "for a in list3:\n",
        "    print(type(a))\n",
        " "
      ],
      "execution_count": 17,
      "outputs": [
        {
          "output_type": "stream",
          "text": [
            "[1, 3, 5, 7, 9, 2, 4, 6, 8]\n",
            "[1, 2, 3, 4, 5, 6, 7, 8, 9]\n",
            "[2, 4, 6, 8, 10, 12, 14, 16, 18]\n",
            "<class 'int'>\n",
            "<class 'int'>\n",
            "<class 'int'>\n",
            "<class 'int'>\n",
            "<class 'int'>\n",
            "<class 'int'>\n",
            "<class 'int'>\n",
            "<class 'int'>\n",
            "<class 'int'>\n"
          ],
          "name": "stdout"
        }
      ]
    }
  ]
}