{
  "nbformat": 4,
  "nbformat_minor": 0,
  "metadata": {
    "colab": {
      "name": "Untitled4.ipynb",
      "provenance": [],
      "authorship_tag": "ABX9TyNS1jusOFS6gUOEorXOJ/0C",
      "include_colab_link": true
    },
    "kernelspec": {
      "name": "python3",
      "display_name": "Python 3"
    },
    "language_info": {
      "name": "python"
    }
  },
  "cells": [
    {
      "cell_type": "markdown",
      "metadata": {
        "id": "view-in-github",
        "colab_type": "text"
      },
      "source": [
        "<a href=\"https://colab.research.google.com/github/byzgrn/gaih-students-repo-example/blob/main/day4_homework3.ipynb\" target=\"_parent\"><img src=\"https://colab.research.google.com/assets/colab-badge.svg\" alt=\"Open In Colab\"/></a>"
      ]
    },
    {
      "cell_type": "code",
      "metadata": {
        "colab": {
          "base_uri": "https://localhost:8080/"
        },
        "id": "WzIWns-R8XWS",
        "outputId": "e289e0f1-5c57-4973-b4d3-c3b82629462b"
      },
      "source": [
        "#day4_homework3\n",
        "#course grade apllication\n",
        "\n",
        "\"\"\"Firstly, i created 5 students from the user the i made an function which \n",
        "calculates students grades. After that i created dictionary which is holding \n",
        "student name and grade information. I created a list and transferred the values \n",
        "from the dictionary. Then, i sorted them but sort() is sorting lower to highest \n",
        "so that's why i used also reverse(). \"\"\"\n",
        "\n",
        "\n",
        "student1=input(\"Enter student1 name: \")\n",
        "student2=input(\"Enter student2 name: \")\n",
        "student3=input(\"Enter student3 name: \")\n",
        "student4=input(\"Enter student4 name: \")\n",
        "student5=input(\"Enter student5 name: \")\n",
        "\n",
        "def passinggrade(x,y,z):\n",
        "  grades={\"midterm grade:\":x,\"final grade:\":y,\"project grade:\":z}\n",
        "  passingGrade= x*0.3 + y*0.3 + z*0.4\n",
        "  return passingGrade\n",
        "\n",
        "studentsinformations={student1:passinggrade(50,60,80),student2:passinggrade(60,70,80),student3:passinggrade(70,80,90),student4:passinggrade(50,90,85),student5:passinggrade(30,90,65),}\n",
        "\n",
        "print(studentsinformations)\n",
        "\n",
        "list1=list(studentsinformations.values()) \n",
        "\n",
        "list1.sort()\n",
        "list1.reverse()\n",
        "\n",
        "print(list1)\n"
      ],
      "execution_count": 5,
      "outputs": [
        {
          "output_type": "stream",
          "text": [
            "Enter student1 name: beyza\n",
            "Enter student2 name: ali\n",
            "Enter student3 name: osman\n",
            "Enter student4 name: nuray\n",
            "Enter student5 name: emel\n",
            "{'beyza': 65.0, 'ali': 71.0, 'osman': 81.0, 'nuray': 76.0, 'emel': 62.0}\n",
            "[81.0, 76.0, 71.0, 65.0, 62.0]\n"
          ],
          "name": "stdout"
        }
      ]
    }
  ]
}