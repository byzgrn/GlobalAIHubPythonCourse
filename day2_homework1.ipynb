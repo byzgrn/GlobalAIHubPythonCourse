{
  "nbformat": 4,
  "nbformat_minor": 0,
  "metadata": {
    "colab": {
      "name": "Untitled3.ipynb",
      "provenance": [],
      "authorship_tag": "ABX9TyM7cirLPIggOeG83KBcslVJ",
      "include_colab_link": true
    },
    "kernelspec": {
      "name": "python3",
      "display_name": "Python 3"
    },
    "language_info": {
      "name": "python"
    }
  },
  "cells": [
    {
      "cell_type": "markdown",
      "metadata": {
        "id": "view-in-github",
        "colab_type": "text"
      },
      "source": [
        "<a href=\"https://colab.research.google.com/github/byzgrn/gaih-students-repo-example/blob/main/day2_homework1.ipynb\" target=\"_parent\"><img src=\"https://colab.research.google.com/assets/colab-badge.svg\" alt=\"Open In Colab\"/></a>"
      ]
    },
    {
      "cell_type": "code",
      "metadata": {
        "colab": {
          "base_uri": "https://localhost:8080/"
        },
        "id": "mG4fV2PWeHSI",
        "outputId": "6c04f111-84fa-462e-86c3-ccc298abf5f3"
      },
      "source": [
        "#day2_homework1_question1\n",
        "\n",
        "#I created a list and then i swaped the second half and first half by using reverse()\n",
        "\n",
        "list=[1,2,3,4,5,6,7,8]\n",
        "print(list)\n",
        "\n",
        "list.reverse()\n",
        "print(list)"
      ],
      "execution_count": 7,
      "outputs": [
        {
          "output_type": "stream",
          "text": [
            "[1, 2, 3, 4, 5, 6, 7, 8]\n",
            "[8, 7, 6, 5, 4, 3, 2, 1]\n"
          ],
          "name": "stdout"
        }
      ]
    },
    {
      "cell_type": "code",
      "metadata": {
        "colab": {
          "base_uri": "https://localhost:8080/"
        },
        "id": "_VWvfidwNqsq",
        "outputId": "1a506a8c-b506-4dfe-d2ac-e60492da1588"
      },
      "source": [
        "#day2_homework1_question2\n",
        "\n",
        "\"\"\"Firstly i create a value which is taken from the user and also i made \n",
        "this value int because input() is making string values. Then, i cretae a list by using\n",
        "range(). n should be in the list thus i wrote 0 to n+1. Then i create a loop which \n",
        "is checking the value is even or not. \"\"\"\n",
        "\n",
        "\n",
        "n=int(input(\"Please enter a single digit integer: \"))\n",
        "\n",
        "list=(range(0,n+1))\n",
        "for i in list:\n",
        "  if i%2==0:\n",
        "    print(i,\"is even number\")\n",
        "    i=i+1\n",
        "  \n",
        "\n",
        "\n",
        "\n"
      ],
      "execution_count": 9,
      "outputs": [
        {
          "output_type": "stream",
          "text": [
            "Please enter a single digit integer: 8\n",
            "0 is even number\n",
            "2 is even number\n",
            "4 is even number\n",
            "6 is even number\n",
            "8 is even number\n"
          ],
          "name": "stdout"
        }
      ]
    }
  ]
}