{
  "nbformat": 4,
  "nbformat_minor": 0,
  "metadata": {
    "colab": {
      "name": "Untitled1.ipynb",
      "provenance": [],
      "authorship_tag": "ABX9TyMY5rZTTG8y1GySYwXoGPaZ",
      "include_colab_link": true
    },
    "kernelspec": {
      "name": "python3",
      "display_name": "Python 3"
    },
    "language_info": {
      "name": "python"
    }
  },
  "cells": [
    {
      "cell_type": "markdown",
      "metadata": {
        "id": "view-in-github",
        "colab_type": "text"
      },
      "source": [
        "<a href=\"https://colab.research.google.com/github/byzgrn/gaih-students-repo-example/blob/main/Untitled1.ipynb\" target=\"_parent\"><img src=\"https://colab.research.google.com/assets/colab-badge.svg\" alt=\"Open In Colab\"/></a>"
      ]
    },
    {
      "cell_type": "code",
      "metadata": {
        "colab": {
          "base_uri": "https://localhost:8080/"
        },
        "id": "v9oDPuqRxYlL",
        "outputId": "dd31c520-8b9c-4785-8518-a7548983cb5a"
      },
      "source": [
        "#day3\n",
        "\n",
        "\"\"\"Firstly, i made an user access application as in the lecture and then \n",
        "i added user as dictionary, also i created name1 and password1 to access the name\n",
        "and password in the dictionary.  \"\"\"\n",
        "\n",
        "user={\"name\":\"Beyza\",\"password\":\"123\"}\n",
        "\n",
        "name1=user[\"name\"]\n",
        "password1=user[\"password\"]\n",
        "\n",
        "name2=input(\"Enter your name: \")\n",
        "password2=input(\"Enter your password: \")\n",
        "\n",
        "if name2!=name1 and password2!=password1:\n",
        "  print(\"Wrong name and password.\")\n",
        "elif name2!=name1 and password2==password1:\n",
        "  print(\"Wrong name.\")\n",
        "elif name2==name1 and password2!=password1:\n",
        "  print(\"Wrong password.\")\n",
        "else :\n",
        "  print(\"Conguratilations! You logged in succesfully.\")\n",
        "\n"
      ],
      "execution_count": 10,
      "outputs": [
        {
          "output_type": "stream",
          "text": [
            "Enter your name: beyza\n",
            "Enter your password: 123\n",
            "Wrong name.\n"
          ],
          "name": "stdout"
        }
      ]
    }
  ]
}