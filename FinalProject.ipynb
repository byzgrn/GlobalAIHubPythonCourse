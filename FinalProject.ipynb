{
  "nbformat": 4,
  "nbformat_minor": 0,
  "metadata": {
    "colab": {
      "name": "Untitled5.ipynb",
      "provenance": [],
      "authorship_tag": "ABX9TyPgWJlIp3yLXb7xv3GQ5P1E",
      "include_colab_link": true
    },
    "kernelspec": {
      "name": "python3",
      "display_name": "Python 3"
    },
    "language_info": {
      "name": "python"
    }
  },
  "cells": [
    {
      "cell_type": "markdown",
      "metadata": {
        "id": "view-in-github",
        "colab_type": "text"
      },
      "source": [
        "<a href=\"https://colab.research.google.com/github/byzgrn/GlobalAIHubPythonCourse/blob/main/FinalProject.ipynb\" target=\"_parent\"><img src=\"https://colab.research.google.com/assets/colab-badge.svg\" alt=\"Open In Colab\"/></a>"
      ]
    },
    {
      "cell_type": "code",
      "metadata": {
        "id": "8O666JxuS-HO",
        "colab": {
          "base_uri": "https://localhost:8080/",
          "height": 730
        },
        "outputId": "494a0b9e-0ad8-4d02-dba0-ecf754efd208"
      },
      "source": [
        "#FINAL PROJECT\n",
        "\n",
        "\"\"\"First of all, i created the questions. Then i created a dictionary and assigned the answers to the questions. I created a score and set the score as 0. \n",
        "I used the for loop to calculate the score and checked if the answer was correct. The program adds 10 points to the score if the answer is correct. \n",
        "I used if statement in the step to check success. Finally,I wanted to print the answer key. I used pandas to print it. \"\"\"\n",
        "\n",
        "import pandas as pd\n",
        "\n",
        "print(\"Welcome to the knowledge competition. Please pay attention to case sensitivity while writing answers, do not use numericals.\")\n",
        "q1=\"1-Which country's city is Seoul?\"\n",
        "q2=\"2-Which city is the capital of Turkey?\"\n",
        "q3=\"3-What color is banana?\"\n",
        "q4=\"4-Who is the first Turkish scientist to reciece the Nobel Prize?\"\n",
        "q5=\"5-What state of matter is water?\"\n",
        "q6=\"6-Who is Turkey’s first president?\"\n",
        "q7=\"7-Which region of Turkey does inclued Trabzon?\"\n",
        "q8=\"8-What is paper made of?\"\n",
        "q9=\"9-How many months is a year?\"\n",
        "q10=\"10-What is the full name of the instructor of the GAIH “Introduction to python” course?\"\n",
        "\n",
        "d={q1:\"South Korea\",q2:\"Ankara\",q3:\"yellow\",q4:\"Aziz Sancar\",q5:\"liquid\",q6:\"Mustafa Kemal Atatürk\",q7:\"Black Sea\",q8:\"tree\",q9:\"twelve\",q10:\"Ömer Cengiz\"}\n",
        "\n",
        "score=0\n",
        "\n",
        "for i in d:\n",
        "  print(i)\n",
        "  answer=input(\"Please, enter the answer: \")\n",
        "  if answer==d[i]:\n",
        "        score+=10\n",
        "\n",
        "print(\"Your score:\",score)\n",
        "\n",
        "if score<=50:\n",
        "  print(\"Unseccusfull\")\n",
        "else:\n",
        "  print(\"Successfull!!\")  \n",
        "\n",
        "df1 = pd.DataFrame({'Questions':['Q1','Q2','Q3','Q4','Q5','Q6','Q7','Q8','Q9','Q10'],\n",
        "                    'Answers':['South Korea','Ankara','yellow','Aziz Sancar','liquid','Mustafa Kemal Atatürk','Black Sea','tree','twelve','Ömer Cengiz']\n",
        "                   })\n",
        "\n",
        "df1"
      ],
      "execution_count": 44,
      "outputs": [
        {
          "output_type": "stream",
          "text": [
            "Welcome to the knowledge competition. Please pay attention to case sensitivity while writing answers, do not use numericals.\n",
            "1-Which country's city is Seoul?\n",
            "Please, enter the answer: South Korea\n",
            "2-Which city is the capital of Turkey?\n",
            "Please, enter the answer: Ankara\n",
            "3-What color is banana?\n",
            "Please, enter the answer: yellow\n",
            "4-Who is the first Turkish scientist to reciece the Nobel Prize?\n",
            "Please, enter the answer: a\n",
            "5-What state of matter is water?\n",
            "Please, enter the answer: b\n",
            "6-Who is Turkey’s first president?\n",
            "Please, enter the answer: c\n",
            "7-Which region of Turkey does inclued Trabzon?\n",
            "Please, enter the answer: f\n",
            "8-What is paper made of?\n",
            "Please, enter the answer: d\n",
            "9-How many months is a year?\n",
            "Please, enter the answer: s\n",
            "10-What is the full name of the instructor of the GAIH “Introduction to python” course?\n",
            "Please, enter the answer: c\n",
            "Your score: 30\n",
            "Unseccusfull\n"
          ],
          "name": "stdout"
        },
        {
          "output_type": "execute_result",
          "data": {
            "text/html": [
              "<div>\n",
              "<style scoped>\n",
              "    .dataframe tbody tr th:only-of-type {\n",
              "        vertical-align: middle;\n",
              "    }\n",
              "\n",
              "    .dataframe tbody tr th {\n",
              "        vertical-align: top;\n",
              "    }\n",
              "\n",
              "    .dataframe thead th {\n",
              "        text-align: right;\n",
              "    }\n",
              "</style>\n",
              "<table border=\"1\" class=\"dataframe\">\n",
              "  <thead>\n",
              "    <tr style=\"text-align: right;\">\n",
              "      <th></th>\n",
              "      <th>Questions</th>\n",
              "      <th>Answers</th>\n",
              "    </tr>\n",
              "  </thead>\n",
              "  <tbody>\n",
              "    <tr>\n",
              "      <th>0</th>\n",
              "      <td>Q1</td>\n",
              "      <td>South Korea</td>\n",
              "    </tr>\n",
              "    <tr>\n",
              "      <th>1</th>\n",
              "      <td>Q2</td>\n",
              "      <td>Ankara</td>\n",
              "    </tr>\n",
              "    <tr>\n",
              "      <th>2</th>\n",
              "      <td>Q3</td>\n",
              "      <td>yellow</td>\n",
              "    </tr>\n",
              "    <tr>\n",
              "      <th>3</th>\n",
              "      <td>Q4</td>\n",
              "      <td>Aziz Sancar</td>\n",
              "    </tr>\n",
              "    <tr>\n",
              "      <th>4</th>\n",
              "      <td>Q5</td>\n",
              "      <td>liquid</td>\n",
              "    </tr>\n",
              "    <tr>\n",
              "      <th>5</th>\n",
              "      <td>Q6</td>\n",
              "      <td>Mustafa Kemal Atatürk</td>\n",
              "    </tr>\n",
              "    <tr>\n",
              "      <th>6</th>\n",
              "      <td>Q7</td>\n",
              "      <td>Black Sea</td>\n",
              "    </tr>\n",
              "    <tr>\n",
              "      <th>7</th>\n",
              "      <td>Q8</td>\n",
              "      <td>tree</td>\n",
              "    </tr>\n",
              "    <tr>\n",
              "      <th>8</th>\n",
              "      <td>Q9</td>\n",
              "      <td>twelve</td>\n",
              "    </tr>\n",
              "    <tr>\n",
              "      <th>9</th>\n",
              "      <td>Q10</td>\n",
              "      <td>Ömer Cengiz</td>\n",
              "    </tr>\n",
              "  </tbody>\n",
              "</table>\n",
              "</div>"
            ],
            "text/plain": [
              "  Questions                Answers\n",
              "0        Q1            South Korea\n",
              "1        Q2                 Ankara\n",
              "2        Q3                 yellow\n",
              "3        Q4            Aziz Sancar\n",
              "4        Q5                 liquid\n",
              "5        Q6  Mustafa Kemal Atatürk\n",
              "6        Q7              Black Sea\n",
              "7        Q8                   tree\n",
              "8        Q9                 twelve\n",
              "9       Q10            Ömer Cengiz"
            ]
          },
          "metadata": {
            "tags": []
          },
          "execution_count": 44
        }
      ]
    }
  ]
}